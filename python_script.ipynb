{
  "nbformat": 4,
  "nbformat_minor": 0,
  "metadata": {
    "colab": {
      "provenance": [],
      "authorship_tag": "ABX9TyOu+UuAGphEWAsKcl2YInrF",
      "include_colab_link": true
    },
    "kernelspec": {
      "name": "python3",
      "display_name": "Python 3"
    },
    "language_info": {
      "name": "python"
    }
  },
  "cells": [
    {
      "cell_type": "markdown",
      "metadata": {
        "id": "view-in-github",
        "colab_type": "text"
      },
      "source": [
        "<a href=\"https://colab.research.google.com/github/nehadevop/python-script-/blob/main/python_script.ipynb\" target=\"_parent\"><img src=\"https://colab.research.google.com/assets/colab-badge.svg\" alt=\"Open In Colab\"/></a>"
      ]
    },
    {
      "cell_type": "code",
      "execution_count": 1,
      "metadata": {
        "colab": {
          "base_uri": "https://localhost:8080/"
        },
        "id": "AX88MtPqYx4R",
        "outputId": "3983e854-bddc-4b0d-a112-3d6fb2a78aa7"
      },
      "outputs": [
        {
          "output_type": "stream",
          "name": "stdout",
          "text": [
            "Requirement already satisfied: beautifulsoup4 in /usr/local/lib/python3.10/dist-packages (4.12.3)\n",
            "Requirement already satisfied: soupsieve>1.2 in /usr/local/lib/python3.10/dist-packages (from beautifulsoup4) (2.5)\n"
          ]
        }
      ],
      "source": [
        "pip install beautifulsoup4"
      ]
    },
    {
      "cell_type": "code",
      "source": [
        "pip install google"
      ],
      "metadata": {
        "colab": {
          "base_uri": "https://localhost:8080/"
        },
        "id": "vqGRvkD1Y38X",
        "outputId": "6b25395f-4a04-4cef-da7a-adc2aa1379e4"
      },
      "execution_count": 2,
      "outputs": [
        {
          "output_type": "stream",
          "name": "stdout",
          "text": [
            "Requirement already satisfied: google in /usr/local/lib/python3.10/dist-packages (2.0.3)\n",
            "Requirement already satisfied: beautifulsoup4 in /usr/local/lib/python3.10/dist-packages (from google) (4.12.3)\n",
            "Requirement already satisfied: soupsieve>1.2 in /usr/local/lib/python3.10/dist-packages (from beautifulsoup4->google) (2.5)\n"
          ]
        }
      ]
    },
    {
      "cell_type": "code",
      "source": [
        "!pip install google-search-python\n"
      ],
      "metadata": {
        "colab": {
          "base_uri": "https://localhost:8080/"
        },
        "id": "N-WqzoGNZG6B",
        "outputId": "b0af1bad-3ab6-4b62-e5f9-b674859d9a53"
      },
      "execution_count": 3,
      "outputs": [
        {
          "output_type": "stream",
          "name": "stdout",
          "text": [
            "\u001b[31mERROR: Could not find a version that satisfies the requirement google-search-python (from versions: none)\u001b[0m\u001b[31m\n",
            "\u001b[0m\u001b[31mERROR: No matching distribution found for google-search-python\u001b[0m\u001b[31m\n",
            "\u001b[0m"
          ]
        }
      ]
    },
    {
      "cell_type": "code",
      "source": [
        "import csv\n",
        "from googlesearch import search\n",
        "\n",
        "def search_and_store(query, filename, num_results=10):\n",
        "    # Search for the query\n",
        "    search_results = list(search(query, tld=\"co.in\", num=num_results, stop=num_results, pause=2))\n",
        "\n",
        "    # Store the results in a CSV file\n",
        "    with open(filename, mode='w', newline='', encoding='utf-8') as file:\n",
        "        writer = csv.writer(file)\n",
        "        writer.writerow(['Title', 'URL'])\n",
        "\n",
        "        for url in search_results:\n",
        "            writer.writerow(['', url])\n",
        "\n",
        "if __name__ == \"__main__\":\n",
        "    # Define the query\n",
        "    query = \"Canoo GOEV\"\n",
        "\n",
        "    # Define the filename for storing results\n",
        "    filename = \"canoo_search_results.csv\"\n",
        "\n",
        "    # Perform the search and store results\n",
        "    search_and_store(query, filename)\n",
        "\n",
        "    print(\"Search results have been stored in\", filename)\n",
        "\n"
      ],
      "metadata": {
        "colab": {
          "base_uri": "https://localhost:8080/"
        },
        "id": "k2SxBwDaZOWc",
        "outputId": "e97776a2-f09b-426d-a684-14e014a37987"
      },
      "execution_count": 5,
      "outputs": [
        {
          "output_type": "stream",
          "name": "stdout",
          "text": [
            "Search results have been stored in canoo_search_results.csv\n"
          ]
        }
      ]
    },
    {
      "cell_type": "code",
      "source": [
        "import csv\n",
        "from googlesearch import search\n",
        "\n",
        "def search_and_store(query, filename, num_results=10):\n",
        "    # Search for the query\n",
        "    search_results = list(search(query, tld=\"co.in\", num=num_results, stop=num_results, pause=2))\n",
        "\n",
        "    # Store the results in a CSV file\n",
        "    with open(filename, mode='w', newline='', encoding='utf-8') as file:\n",
        "        writer = csv.writer(file)\n",
        "        writer.writerow(['Title', 'URL'])\n",
        "\n",
        "        for url in search_results:\n",
        "            writer.writerow(['', url])\n",
        "\n",
        "if __name__ == \"__main__\":\n",
        "    # Define the query\n",
        "    queries = [\n",
        "        \"Canoo industry overview\",\n",
        "        \"Canoo competitors\",\n",
        "        \"Canoo market trends\",\n",
        "        \"Canoo financial performance\"\n",
        "    ]\n",
        "\n",
        "    # Define the filenames for storing results\n",
        "    filenames = [\n",
        "        \"canoo_industry_overview.csv\",\n",
        "        \"canoo_competitors.csv\",\n",
        "        \"canoo_market_trends.csv\",\n",
        "        \"canoo_financial_performance.csv\"\n",
        "    ]\n",
        "\n",
        "    # Perform searches and store results\n",
        "    for query, filename in zip(queries, filenames):\n",
        "        search_and_store(query, filename)\n",
        "        print(\"Search results for\", query, \"have been stored in\", filename)\n"
      ],
      "metadata": {
        "colab": {
          "base_uri": "https://localhost:8080/"
        },
        "id": "gTo0HNHKaM-t",
        "outputId": "acf4bc0b-bcf5-4e49-e6db-a8ace05901cf"
      },
      "execution_count": 6,
      "outputs": [
        {
          "output_type": "stream",
          "name": "stdout",
          "text": [
            "Search results for Canoo industry overview have been stored in canoo_industry_overview.csv\n",
            "Search results for Canoo competitors have been stored in canoo_competitors.csv\n",
            "Search results for Canoo market trends have been stored in canoo_market_trends.csv\n",
            "Search results for Canoo financial performance have been stored in canoo_financial_performance.csv\n"
          ]
        }
      ]
    }
  ]
}